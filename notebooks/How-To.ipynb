{
 "cells": [
  {
   "cell_type": "code",
   "execution_count": 9,
   "id": "ffa8dc0e",
   "metadata": {},
   "outputs": [],
   "source": [
    "import torch\n",
    "import torch.utils.data\n",
    "from torchvision import transforms\n",
    "transform = transforms.Compose([transforms.ToTensor(),])\n",
    "from PIL import Image\n",
    "import os \n",
    "import sys\n",
    "\n",
    "module_path = os.path.abspath(os.path.join('../src/main-model/'))\n",
    "if module_path not in sys.path:\n",
    "    sys.path.append(module_path)\n",
    "    \n",
    "import fasterutils\n",
    "import fasterrcnn\n",
    "\n",
    "import numpy as np\n",
    "from PIL import Image\n",
    "import matplotlib.pyplot as plt\n",
    "import matplotlib.patches as patches"
   ]
  },
  {
   "cell_type": "code",
   "execution_count": 10,
   "id": "dee62e30",
   "metadata": {},
   "outputs": [],
   "source": [
    "model = torch.load(\n",
    "    f = '/home/marko/data/models/final-model-fit.pt',\n",
    "    map_location = torch.device('cpu'));"
   ]
  },
  {
   "cell_type": "code",
   "execution_count": 11,
   "id": "1ad5c0eb",
   "metadata": {},
   "outputs": [],
   "source": [
    "img = Image.open('../figures/hamburg.png')\n",
    "\n",
    "model.eval()\n",
    "img_tr = torch.unsqueeze(transform(img), 0)\n",
    "with torch.no_grad():\n",
    "    pred = model(img_tr)[0]"
   ]
  },
  {
   "cell_type": "code",
   "execution_count": 12,
   "id": "ee741c66",
   "metadata": {},
   "outputs": [],
   "source": [
    "bboxes, labels, scores = pred['boxes'], pred['labels'], pred['scores']\n",
    "bboxes, labels, scores = [arr.cpu().detach().numpy() for arr in [bboxes, labels, scores]]"
   ]
  },
  {
   "cell_type": "code",
   "execution_count": 17,
   "id": "69f0a9b5",
   "metadata": {},
   "outputs": [],
   "source": [
    "def show(img, bboxes_x0x1y0y1, scores, threshold=0.7):\n",
    "    ''' For the How-To. '''\n",
    "\n",
    "    plt.rcParams['figure.figsize'] = [12, 8]\n",
    "\n",
    "    fig, ax = plt.subplots()\n",
    "    ax.set_axis_off()\n",
    "    ax.imshow(img);\n",
    "\n",
    "    bboxes = []\n",
    "    for i, bbox in enumerate(bboxes_x0x1y0y1):\n",
    "        if scores[i] > threshold:\n",
    "            bbox = list(bbox)\n",
    "            x0, y0 = bbox[0], bbox[1]\n",
    "            x1, y1 = bbox[2], bbox[3]\n",
    "            bboxes.append([x0, y0, x1 - x0, y1 - y0])\n",
    "\n",
    "    for bbox in bboxes:\n",
    "        rect = patches.Rectangle(\n",
    "            (bbox[0], bbox[1]), bbox[2], bbox[3],\n",
    "            linewidth=1, edgecolor='r', facecolor='none')\n",
    "\n",
    "        ax.add_patch(rect)\n",
    "\n",
    "    fig.savefig('../figures/hamburg-det.png', dpi=300, pad_inches = 0,\n",
    "                facecolor='white', edgecolor='black')\n",
    "    plt.close()"
   ]
  },
  {
   "cell_type": "code",
   "execution_count": 18,
   "id": "dad6d37c",
   "metadata": {},
   "outputs": [],
   "source": [
    "show(img, bboxes, scores)"
   ]
  },
  {
   "cell_type": "code",
   "execution_count": null,
   "id": "356177cc",
   "metadata": {},
   "outputs": [],
   "source": []
  }
 ],
 "metadata": {
  "kernelspec": {
   "display_name": "Python 3",
   "language": "python",
   "name": "python3"
  },
  "language_info": {
   "codemirror_mode": {
    "name": "ipython",
    "version": 3
   },
   "file_extension": ".py",
   "mimetype": "text/x-python",
   "name": "python",
   "nbconvert_exporter": "python",
   "pygments_lexer": "ipython3",
   "version": "3.8.10"
  }
 },
 "nbformat": 4,
 "nbformat_minor": 5
}
